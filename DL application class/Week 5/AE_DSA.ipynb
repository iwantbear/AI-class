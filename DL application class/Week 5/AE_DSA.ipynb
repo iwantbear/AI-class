{
 "cells": [
  {
   "cell_type": "code",
   "execution_count": 64,
   "id": "9922d334-197c-4748-9038-e7cb039e390f",
   "metadata": {},
   "outputs": [],
   "source": [
    "import pandas as pd\n",
    "import numpy as np\n",
    "import matplotlib.pyplot as plt\n",
    "from sklearn.model_selection import train_test_split\n",
    "from sklearn.preprocessing import StandardScaler\n",
    "from tensorflow.keras.models import Model\n",
    "from tensorflow.keras.layers import Input, Dense\n",
    "from tensorflow.keras.optimizers import Adam"
   ]
  },
  {
   "cell_type": "code",
   "execution_count": 65,
   "id": "4939d6cf-25a3-4999-b428-a8569412cc3a",
   "metadata": {},
   "outputs": [
    {
     "data": {
      "text/html": [
       "<div>\n",
       "<style scoped>\n",
       "    .dataframe tbody tr th:only-of-type {\n",
       "        vertical-align: middle;\n",
       "    }\n",
       "\n",
       "    .dataframe tbody tr th {\n",
       "        vertical-align: top;\n",
       "    }\n",
       "\n",
       "    .dataframe thead th {\n",
       "        text-align: right;\n",
       "    }\n",
       "</style>\n",
       "<table border=\"1\" class=\"dataframe\">\n",
       "  <thead>\n",
       "    <tr style=\"text-align: right;\">\n",
       "      <th></th>\n",
       "      <th>T_xacc_mean</th>\n",
       "      <th>T_xacc_max</th>\n",
       "      <th>T_xacc_min</th>\n",
       "      <th>T_xacc_var</th>\n",
       "      <th>T_xacc_std</th>\n",
       "      <th>T_xacc_skew</th>\n",
       "      <th>T_yacc_mean</th>\n",
       "      <th>T_yacc_max</th>\n",
       "      <th>T_yacc_min</th>\n",
       "      <th>T_yacc_var</th>\n",
       "      <th>...</th>\n",
       "      <th>LL_ymag_std</th>\n",
       "      <th>LL_ymag_skew</th>\n",
       "      <th>LL_zmag_mean</th>\n",
       "      <th>LL_zmag_max</th>\n",
       "      <th>LL_zmag_min</th>\n",
       "      <th>LL_zmag_var</th>\n",
       "      <th>LL_zmag_std</th>\n",
       "      <th>LL_zmag_skew</th>\n",
       "      <th>activity</th>\n",
       "      <th>people</th>\n",
       "    </tr>\n",
       "  </thead>\n",
       "  <tbody>\n",
       "    <tr>\n",
       "      <th>0</th>\n",
       "      <td>7.975714</td>\n",
       "      <td>8.1605</td>\n",
       "      <td>7.6823</td>\n",
       "      <td>0.014395</td>\n",
       "      <td>0.119981</td>\n",
       "      <td>-0.023319</td>\n",
       "      <td>1.083150</td>\n",
       "      <td>1.1832</td>\n",
       "      <td>0.99744</td>\n",
       "      <td>0.002208</td>\n",
       "      <td>...</td>\n",
       "      <td>0.000792</td>\n",
       "      <td>0.177075</td>\n",
       "      <td>-0.057119</td>\n",
       "      <td>-0.054963</td>\n",
       "      <td>-0.059241</td>\n",
       "      <td>6.778722e-07</td>\n",
       "      <td>0.000823</td>\n",
       "      <td>0.036729</td>\n",
       "      <td>sitting</td>\n",
       "      <td>p1</td>\n",
       "    </tr>\n",
       "    <tr>\n",
       "      <th>1</th>\n",
       "      <td>7.978250</td>\n",
       "      <td>8.1763</td>\n",
       "      <td>7.8472</td>\n",
       "      <td>0.007551</td>\n",
       "      <td>0.086896</td>\n",
       "      <td>0.552416</td>\n",
       "      <td>1.140865</td>\n",
       "      <td>1.2129</td>\n",
       "      <td>1.05810</td>\n",
       "      <td>0.000784</td>\n",
       "      <td>...</td>\n",
       "      <td>0.000860</td>\n",
       "      <td>-0.286918</td>\n",
       "      <td>-0.057268</td>\n",
       "      <td>-0.054945</td>\n",
       "      <td>-0.059589</td>\n",
       "      <td>7.032302e-07</td>\n",
       "      <td>0.000839</td>\n",
       "      <td>0.347471</td>\n",
       "      <td>sitting</td>\n",
       "      <td>p1</td>\n",
       "    </tr>\n",
       "    <tr>\n",
       "      <th>2</th>\n",
       "      <td>7.970894</td>\n",
       "      <td>8.0860</td>\n",
       "      <td>7.8470</td>\n",
       "      <td>0.003092</td>\n",
       "      <td>0.055603</td>\n",
       "      <td>0.100538</td>\n",
       "      <td>1.140962</td>\n",
       "      <td>1.2128</td>\n",
       "      <td>1.07960</td>\n",
       "      <td>0.000508</td>\n",
       "      <td>...</td>\n",
       "      <td>0.000762</td>\n",
       "      <td>-0.134430</td>\n",
       "      <td>-0.057068</td>\n",
       "      <td>-0.054711</td>\n",
       "      <td>-0.059065</td>\n",
       "      <td>6.268222e-07</td>\n",
       "      <td>0.000792</td>\n",
       "      <td>0.045579</td>\n",
       "      <td>sitting</td>\n",
       "      <td>p1</td>\n",
       "    </tr>\n",
       "    <tr>\n",
       "      <th>3</th>\n",
       "      <td>7.938412</td>\n",
       "      <td>8.1083</td>\n",
       "      <td>7.6901</td>\n",
       "      <td>0.003763</td>\n",
       "      <td>0.061343</td>\n",
       "      <td>-0.231914</td>\n",
       "      <td>1.165260</td>\n",
       "      <td>1.3170</td>\n",
       "      <td>1.07870</td>\n",
       "      <td>0.002173</td>\n",
       "      <td>...</td>\n",
       "      <td>0.000735</td>\n",
       "      <td>0.021485</td>\n",
       "      <td>-0.056422</td>\n",
       "      <td>-0.053670</td>\n",
       "      <td>-0.058310</td>\n",
       "      <td>8.011245e-07</td>\n",
       "      <td>0.000895</td>\n",
       "      <td>0.240690</td>\n",
       "      <td>sitting</td>\n",
       "      <td>p1</td>\n",
       "    </tr>\n",
       "    <tr>\n",
       "      <th>4</th>\n",
       "      <td>7.908930</td>\n",
       "      <td>8.1305</td>\n",
       "      <td>7.8322</td>\n",
       "      <td>0.001741</td>\n",
       "      <td>0.041731</td>\n",
       "      <td>2.042285</td>\n",
       "      <td>1.187504</td>\n",
       "      <td>1.2574</td>\n",
       "      <td>1.09450</td>\n",
       "      <td>0.000662</td>\n",
       "      <td>...</td>\n",
       "      <td>0.000824</td>\n",
       "      <td>-0.148229</td>\n",
       "      <td>-0.055801</td>\n",
       "      <td>-0.053313</td>\n",
       "      <td>-0.057815</td>\n",
       "      <td>6.853423e-07</td>\n",
       "      <td>0.000828</td>\n",
       "      <td>0.258429</td>\n",
       "      <td>sitting</td>\n",
       "      <td>p1</td>\n",
       "    </tr>\n",
       "    <tr>\n",
       "      <th>...</th>\n",
       "      <td>...</td>\n",
       "      <td>...</td>\n",
       "      <td>...</td>\n",
       "      <td>...</td>\n",
       "      <td>...</td>\n",
       "      <td>...</td>\n",
       "      <td>...</td>\n",
       "      <td>...</td>\n",
       "      <td>...</td>\n",
       "      <td>...</td>\n",
       "      <td>...</td>\n",
       "      <td>...</td>\n",
       "      <td>...</td>\n",
       "      <td>...</td>\n",
       "      <td>...</td>\n",
       "      <td>...</td>\n",
       "      <td>...</td>\n",
       "      <td>...</td>\n",
       "      <td>...</td>\n",
       "      <td>...</td>\n",
       "      <td>...</td>\n",
       "    </tr>\n",
       "    <tr>\n",
       "      <th>9115</th>\n",
       "      <td>8.280854</td>\n",
       "      <td>34.1980</td>\n",
       "      <td>-2.9038</td>\n",
       "      <td>28.080803</td>\n",
       "      <td>5.299132</td>\n",
       "      <td>1.350075</td>\n",
       "      <td>-1.491537</td>\n",
       "      <td>11.2240</td>\n",
       "      <td>-11.65100</td>\n",
       "      <td>14.670334</td>\n",
       "      <td>...</td>\n",
       "      <td>0.200829</td>\n",
       "      <td>-0.040701</td>\n",
       "      <td>0.297666</td>\n",
       "      <td>0.708480</td>\n",
       "      <td>-0.117430</td>\n",
       "      <td>4.135451e-02</td>\n",
       "      <td>0.203358</td>\n",
       "      <td>-0.310022</td>\n",
       "      <td>basketBall</td>\n",
       "      <td>p8</td>\n",
       "    </tr>\n",
       "    <tr>\n",
       "      <th>9116</th>\n",
       "      <td>9.591118</td>\n",
       "      <td>51.6970</td>\n",
       "      <td>-3.4129</td>\n",
       "      <td>35.722025</td>\n",
       "      <td>5.976791</td>\n",
       "      <td>2.981144</td>\n",
       "      <td>0.086304</td>\n",
       "      <td>6.9951</td>\n",
       "      <td>-11.76400</td>\n",
       "      <td>5.329897</td>\n",
       "      <td>...</td>\n",
       "      <td>0.148745</td>\n",
       "      <td>-0.266377</td>\n",
       "      <td>0.224716</td>\n",
       "      <td>0.554670</td>\n",
       "      <td>-0.250950</td>\n",
       "      <td>3.355704e-02</td>\n",
       "      <td>0.183186</td>\n",
       "      <td>-0.736410</td>\n",
       "      <td>basketBall</td>\n",
       "      <td>p8</td>\n",
       "    </tr>\n",
       "    <tr>\n",
       "      <th>9117</th>\n",
       "      <td>9.599113</td>\n",
       "      <td>27.9300</td>\n",
       "      <td>-1.0765</td>\n",
       "      <td>48.850886</td>\n",
       "      <td>6.989341</td>\n",
       "      <td>0.449237</td>\n",
       "      <td>-0.728367</td>\n",
       "      <td>3.7801</td>\n",
       "      <td>-8.36910</td>\n",
       "      <td>5.683022</td>\n",
       "      <td>...</td>\n",
       "      <td>0.310748</td>\n",
       "      <td>-0.009505</td>\n",
       "      <td>-0.237786</td>\n",
       "      <td>0.088854</td>\n",
       "      <td>-0.477260</td>\n",
       "      <td>2.026107e-02</td>\n",
       "      <td>0.142341</td>\n",
       "      <td>0.668438</td>\n",
       "      <td>basketBall</td>\n",
       "      <td>p8</td>\n",
       "    </tr>\n",
       "    <tr>\n",
       "      <th>9118</th>\n",
       "      <td>9.692482</td>\n",
       "      <td>72.7820</td>\n",
       "      <td>-2.6734</td>\n",
       "      <td>59.378336</td>\n",
       "      <td>7.705734</td>\n",
       "      <td>4.491114</td>\n",
       "      <td>-0.582724</td>\n",
       "      <td>6.1216</td>\n",
       "      <td>-8.85710</td>\n",
       "      <td>4.162963</td>\n",
       "      <td>...</td>\n",
       "      <td>0.156493</td>\n",
       "      <td>0.050624</td>\n",
       "      <td>0.533023</td>\n",
       "      <td>0.677800</td>\n",
       "      <td>0.055941</td>\n",
       "      <td>1.356379e-02</td>\n",
       "      <td>0.116464</td>\n",
       "      <td>-1.482489</td>\n",
       "      <td>basketBall</td>\n",
       "      <td>p8</td>\n",
       "    </tr>\n",
       "    <tr>\n",
       "      <th>9119</th>\n",
       "      <td>9.380641</td>\n",
       "      <td>45.0090</td>\n",
       "      <td>-3.5938</td>\n",
       "      <td>40.459334</td>\n",
       "      <td>6.360765</td>\n",
       "      <td>1.688626</td>\n",
       "      <td>-0.266325</td>\n",
       "      <td>5.8603</td>\n",
       "      <td>-6.91970</td>\n",
       "      <td>4.017098</td>\n",
       "      <td>...</td>\n",
       "      <td>0.229154</td>\n",
       "      <td>-0.342228</td>\n",
       "      <td>0.491919</td>\n",
       "      <td>0.707920</td>\n",
       "      <td>0.251280</td>\n",
       "      <td>9.358254e-03</td>\n",
       "      <td>0.096738</td>\n",
       "      <td>-0.223302</td>\n",
       "      <td>basketBall</td>\n",
       "      <td>p8</td>\n",
       "    </tr>\n",
       "  </tbody>\n",
       "</table>\n",
       "<p>9120 rows × 272 columns</p>\n",
       "</div>"
      ],
      "text/plain": [
       "      T_xacc_mean  T_xacc_max  T_xacc_min  T_xacc_var  T_xacc_std  \\\n",
       "0        7.975714      8.1605      7.6823    0.014395    0.119981   \n",
       "1        7.978250      8.1763      7.8472    0.007551    0.086896   \n",
       "2        7.970894      8.0860      7.8470    0.003092    0.055603   \n",
       "3        7.938412      8.1083      7.6901    0.003763    0.061343   \n",
       "4        7.908930      8.1305      7.8322    0.001741    0.041731   \n",
       "...           ...         ...         ...         ...         ...   \n",
       "9115     8.280854     34.1980     -2.9038   28.080803    5.299132   \n",
       "9116     9.591118     51.6970     -3.4129   35.722025    5.976791   \n",
       "9117     9.599113     27.9300     -1.0765   48.850886    6.989341   \n",
       "9118     9.692482     72.7820     -2.6734   59.378336    7.705734   \n",
       "9119     9.380641     45.0090     -3.5938   40.459334    6.360765   \n",
       "\n",
       "      T_xacc_skew  T_yacc_mean  T_yacc_max  T_yacc_min  T_yacc_var  ...  \\\n",
       "0       -0.023319     1.083150      1.1832     0.99744    0.002208  ...   \n",
       "1        0.552416     1.140865      1.2129     1.05810    0.000784  ...   \n",
       "2        0.100538     1.140962      1.2128     1.07960    0.000508  ...   \n",
       "3       -0.231914     1.165260      1.3170     1.07870    0.002173  ...   \n",
       "4        2.042285     1.187504      1.2574     1.09450    0.000662  ...   \n",
       "...           ...          ...         ...         ...         ...  ...   \n",
       "9115     1.350075    -1.491537     11.2240   -11.65100   14.670334  ...   \n",
       "9116     2.981144     0.086304      6.9951   -11.76400    5.329897  ...   \n",
       "9117     0.449237    -0.728367      3.7801    -8.36910    5.683022  ...   \n",
       "9118     4.491114    -0.582724      6.1216    -8.85710    4.162963  ...   \n",
       "9119     1.688626    -0.266325      5.8603    -6.91970    4.017098  ...   \n",
       "\n",
       "      LL_ymag_std  LL_ymag_skew  LL_zmag_mean  LL_zmag_max  LL_zmag_min  \\\n",
       "0        0.000792      0.177075     -0.057119    -0.054963    -0.059241   \n",
       "1        0.000860     -0.286918     -0.057268    -0.054945    -0.059589   \n",
       "2        0.000762     -0.134430     -0.057068    -0.054711    -0.059065   \n",
       "3        0.000735      0.021485     -0.056422    -0.053670    -0.058310   \n",
       "4        0.000824     -0.148229     -0.055801    -0.053313    -0.057815   \n",
       "...           ...           ...           ...          ...          ...   \n",
       "9115     0.200829     -0.040701      0.297666     0.708480    -0.117430   \n",
       "9116     0.148745     -0.266377      0.224716     0.554670    -0.250950   \n",
       "9117     0.310748     -0.009505     -0.237786     0.088854    -0.477260   \n",
       "9118     0.156493      0.050624      0.533023     0.677800     0.055941   \n",
       "9119     0.229154     -0.342228      0.491919     0.707920     0.251280   \n",
       "\n",
       "       LL_zmag_var  LL_zmag_std  LL_zmag_skew    activity  people  \n",
       "0     6.778722e-07     0.000823      0.036729     sitting      p1  \n",
       "1     7.032302e-07     0.000839      0.347471     sitting      p1  \n",
       "2     6.268222e-07     0.000792      0.045579     sitting      p1  \n",
       "3     8.011245e-07     0.000895      0.240690     sitting      p1  \n",
       "4     6.853423e-07     0.000828      0.258429     sitting      p1  \n",
       "...            ...          ...           ...         ...     ...  \n",
       "9115  4.135451e-02     0.203358     -0.310022  basketBall      p8  \n",
       "9116  3.355704e-02     0.183186     -0.736410  basketBall      p8  \n",
       "9117  2.026107e-02     0.142341      0.668438  basketBall      p8  \n",
       "9118  1.356379e-02     0.116464     -1.482489  basketBall      p8  \n",
       "9119  9.358254e-03     0.096738     -0.223302  basketBall      p8  \n",
       "\n",
       "[9120 rows x 272 columns]"
      ]
     },
     "execution_count": 65,
     "metadata": {},
     "output_type": "execute_result"
    }
   ],
   "source": [
    "# 1. 데이터 로드 및 전처리\n",
    "# 신용카드 데이터셋을 불러옵니다. \n",
    "\n",
    "df = pd.read_csv('/Users/hwang-gyuhan/Desktop/Collage/3-2/딥러닝응용/4주차/DSA_features.csv')\n",
    "df"
   ]
  },
  {
   "cell_type": "code",
   "execution_count": 66,
   "id": "a04e37d5-ae03-4611-a7ed-d57671880fd6",
   "metadata": {},
   "outputs": [
    {
     "data": {
      "text/plain": [
       "(9120, 272)"
      ]
     },
     "execution_count": 66,
     "metadata": {},
     "output_type": "execute_result"
    }
   ],
   "source": [
    "df.shape"
   ]
  },
  {
   "cell_type": "code",
   "execution_count": 67,
   "id": "ed3b41e2-45df-43c6-95aa-a51484b949b7",
   "metadata": {},
   "outputs": [
    {
     "data": {
      "text/plain": [
       "False"
      ]
     },
     "execution_count": 67,
     "metadata": {},
     "output_type": "execute_result"
    }
   ],
   "source": [
    "# 결측치 홗인\n",
    "\n",
    "df.isnull().values.any()"
   ]
  },
  {
   "cell_type": "code",
   "execution_count": 68,
   "id": "ae6109c9-1e25-462c-8d9a-4a39cffdd118",
   "metadata": {},
   "outputs": [],
   "source": [
    "LABELS = df[df['activity'].isin(['sitting', 'jumping'])]"
   ]
  },
  {
   "cell_type": "code",
   "execution_count": null,
   "id": "e7070252",
   "metadata": {},
   "outputs": [],
   "source": []
  },
  {
   "cell_type": "code",
   "execution_count": 69,
   "id": "b57e073d-e4f3-421d-9e0b-1313cf67b60c",
   "metadata": {},
   "outputs": [
    {
     "data": {
      "text/plain": [
       "Text(0, 0.5, 'Frequency')"
      ]
     },
     "execution_count": 69,
     "metadata": {},
     "output_type": "execute_result"
    },
    {
     "data": {
      "image/png": "[encoded data removed]",
      "text/plain": [
       "<Figure size 800x500 with 1 Axes>"
      ]
     },
     "metadata": {},
     "output_type": "display_data"
    }
   ],
   "source": [
    "count_classes = pd.value_counts(LABELS['activity'], sort=True)\n",
    "plt.figure(figsize=(8, 5))  \n",
    "count_classes.plot(kind='bar', rot=0)\n",
    "plt.title(\"Activity Class Distribution\")\n",
    "plt.xticks(rotation=0)\n",
    "plt.xlabel(\"Activity\")\n",
    "plt.ylabel(\"Frequency\")"
   ]
  },
  {
   "cell_type": "code",
   "execution_count": 70,
   "id": "b46cadff-f5d3-4f43-baa7-299c7b22832d",
   "metadata": {},
   "outputs": [
    {
     "data": {
      "text/plain": [
       "(480, 272)"
      ]
     },
     "execution_count": 70,
     "metadata": {},
     "output_type": "execute_result"
    }
   ],
   "source": [
    "sitting = df[df.activity == \"sitting\"]\n",
    "jumping = df[df.activity == \"jumping\"]\n",
    "sitting.shape"
   ]
  },
  {
   "cell_type": "code",
   "execution_count": 71,
   "id": "cec932ce-fa8a-4d29-8f35-40bfa9bfa970",
   "metadata": {},
   "outputs": [
    {
     "data": {
      "text/plain": [
       "(480, 272)"
      ]
     },
     "execution_count": 71,
     "metadata": {},
     "output_type": "execute_result"
    }
   ],
   "source": [
    "jumping.shape"
   ]
  },
  {
   "cell_type": "code",
   "execution_count": 72,
   "id": "21bea778-95af-4453-95d7-1a50c724dc4a",
   "metadata": {},
   "outputs": [],
   "source": [
    "RANDOM_SEED = 42"
   ]
  },
  {
   "cell_type": "code",
   "execution_count": 73,
   "id": "26b50057-150a-4c2a-9b9a-329a68a0ad71",
   "metadata": {},
   "outputs": [
    {
     "name": "stdout",
     "output_type": "stream",
     "text": [
      "Unique values in training labels: ['sitting']\n",
      "Unique values in validation labels: ['sitting']\n",
      "X_train shape: (307, 270)\n",
      "X_valid shape: (77, 270)\n",
      "X_test shape: (192, 270)\n"
     ]
    }
   ],
   "source": [
    "# \"people\" 열 삭제\n",
    "LABELS = LABELS.drop(['people'], axis=1)\n",
    "\n",
    "# X, y 정의\n",
    "X = LABELS.drop(['activity'], axis=1)  # feature 데이터\n",
    "y = LABELS['activity']                  # target 데이터\n",
    "\n",
    "# 데이터 분할: training과 test\n",
    "X_train, X_test, y_train, y_test = train_test_split(X, y, test_size=0.2, random_state=42, stratify=y)\n",
    "\n",
    "# 3. training을 다시 training/valid\n",
    "X_train, X_valid, y_train, y_valid = train_test_split(X_train, y_train, test_size=0.2, random_state=42, stratify=y_train)\n",
    "\n",
    "# 4. training/valid에서 jumping 데이터를 삭제 (sitting을 정상 데이터로 사용)\n",
    "X_train = X_train[y_train == 'sitting']  # sitting만 남기기\n",
    "y_train = y_train[y_train == 'sitting']   # y_train도 sitting에 맞게 업데이트\n",
    "\n",
    "X_valid = X_valid[y_valid != 'jumping']  # jumping 데이터 제외\n",
    "y_valid = y_valid[y_valid != 'jumping']   # y_valid도 jumping 데이터에 맞춰 업데이트\n",
    "\n",
    "# 결과 출력\n",
    "print(\"Unique values in training labels:\", y_train.unique())\n",
    "print(\"Unique values in validation labels:\", y_valid.unique())\n",
    "print(\"X_train shape:\", X_train.shape)\n",
    "print(\"X_valid shape:\", X_valid.shape)\n",
    "print(\"X_test shape:\", X_test.shape)\n"
   ]
  },
  {
   "cell_type": "code",
   "execution_count": 25,
   "id": "546faff3-b30f-4efe-a8ba-65b0bb322187",
   "metadata": {},
   "outputs": [],
   "source": [
    "# 테스트 레이블을 남겨두는 이유는 나중에 정확도를 비교하기 위해서임"
   ]
  },
  {
   "cell_type": "code",
   "execution_count": 74,
   "id": "276a1d24-499a-41db-81e5-adf4f5f3eb50",
   "metadata": {},
   "outputs": [
    {
     "name": "stderr",
     "output_type": "stream",
     "text": [
      "WARNING:absl:At this time, the v2.11+ optimizer `tf.keras.optimizers.Adam` runs slowly on M1/M2 Macs, please use the legacy Keras optimizer instead, located at `tf.keras.optimizers.legacy.Adam`.\n",
      "WARNING:absl:There is a known slowdown when using v2.11+ Keras optimizers on M1/M2 Macs. Falling back to the legacy Keras optimizer, i.e., `tf.keras.optimizers.legacy.Adam`.\n"
     ]
    }
   ],
   "source": [
    "# 오토인코더 모델\n",
    "\n",
    "input_dim = X_train.shape[1]\n",
    "encoding_dim = 14  # 인코딩 차원을 설정 (임의로 설정한 값, 조정 가능)\n",
    "\n",
    "input_layer = Input(shape=(input_dim,))\n",
    "encoded = Dense(encoding_dim, activation='relu')(input_layer)\n",
    "encoded = Dense(int(encoding_dim / 2), activation='relu')(encoded)\n",
    "decoded = Dense(int(encoding_dim / 2), activation='relu')(encoded)\n",
    "decoded = Dense(input_dim, activation='sigmoid')(decoded)\n",
    "\n",
    "autoencoder = Model(inputs=input_layer, outputs=decoded)\n",
    "autoencoder.compile(optimizer=Adam(learning_rate=0.001), loss='mse')"
   ]
  },
  {
   "cell_type": "code",
   "execution_count": 75,
   "id": "69bd93da-415c-4a3e-8441-d803aa6a8285",
   "metadata": {},
   "outputs": [
    {
     "name": "stdout",
     "output_type": "stream",
     "text": [
      "Epoch 1/50\n",
      "2/2 [==============================] - 3s 76ms/step - loss: 5.5449 - val_loss: 5.7143\n",
      "Epoch 2/50\n",
      "2/2 [==============================] - 0s 15ms/step - loss: 5.5391 - val_loss: 5.7080\n",
      "Epoch 3/50\n",
      "2/2 [==============================] - 0s 15ms/step - loss: 5.5319 - val_loss: 5.6997\n",
      "Epoch 4/50\n",
      "2/2 [==============================] - 0s 23ms/step - loss: 5.5231 - val_loss: 5.6896\n",
      "Epoch 5/50\n",
      "2/2 [==============================] - 0s 17ms/step - loss: 5.5124 - val_loss: 5.6773\n",
      "Epoch 6/50\n",
      "2/2 [==============================] - 0s 16ms/step - loss: 5.4995 - val_loss: 5.6628\n",
      "Epoch 7/50\n",
      "2/2 [==============================] - 0s 14ms/step - loss: 5.4844 - val_loss: 5.6458\n",
      "Epoch 8/50\n",
      "2/2 [==============================] - 0s 15ms/step - loss: 5.4674 - val_loss: 5.6270\n",
      "Epoch 9/50\n",
      "2/2 [==============================] - 0s 17ms/step - loss: 5.4484 - val_loss: 5.6062\n",
      "Epoch 10/50\n",
      "2/2 [==============================] - 0s 15ms/step - loss: 5.4273 - val_loss: 5.5833\n",
      "Epoch 11/50\n",
      "2/2 [==============================] - 0s 15ms/step - loss: 5.4038 - val_loss: 5.5581\n",
      "Epoch 12/50\n",
      "2/2 [==============================] - 0s 31ms/step - loss: 5.3780 - val_loss: 5.5307\n",
      "Epoch 13/50\n",
      "2/2 [==============================] - 0s 25ms/step - loss: 5.3500 - val_loss: 5.5010\n",
      "Epoch 14/50\n",
      "2/2 [==============================] - 0s 17ms/step - loss: 5.3198 - val_loss: 5.4693\n",
      "Epoch 15/50\n",
      "2/2 [==============================] - 0s 19ms/step - loss: 5.2875 - val_loss: 5.4358\n",
      "Epoch 16/50\n",
      "2/2 [==============================] - 0s 16ms/step - loss: 5.2532 - val_loss: 5.4003\n",
      "Epoch 17/50\n",
      "2/2 [==============================] - 0s 23ms/step - loss: 5.2165 - val_loss: 5.3628\n",
      "Epoch 18/50\n",
      "2/2 [==============================] - 0s 18ms/step - loss: 5.1778 - val_loss: 5.3240\n",
      "Epoch 19/50\n",
      "2/2 [==============================] - 0s 16ms/step - loss: 5.1374 - val_loss: 5.2843\n",
      "Epoch 20/50\n",
      "2/2 [==============================] - 0s 20ms/step - loss: 5.0958 - val_loss: 5.2444\n",
      "Epoch 21/50\n",
      "2/2 [==============================] - 0s 16ms/step - loss: 5.0541 - val_loss: 5.2050\n",
      "Epoch 22/50\n",
      "2/2 [==============================] - 0s 13ms/step - loss: 5.0126 - val_loss: 5.1669\n",
      "Epoch 23/50\n",
      "2/2 [==============================] - 0s 14ms/step - loss: 4.9724 - val_loss: 5.1304\n",
      "Epoch 24/50\n",
      "2/2 [==============================] - 0s 17ms/step - loss: 4.9341 - val_loss: 5.0963\n",
      "Epoch 25/50\n",
      "2/2 [==============================] - 0s 16ms/step - loss: 4.8982 - val_loss: 5.0651\n",
      "Epoch 26/50\n",
      "2/2 [==============================] - 0s 15ms/step - loss: 4.8655 - val_loss: 5.0372\n",
      "Epoch 27/50\n",
      "2/2 [==============================] - 0s 14ms/step - loss: 4.8363 - val_loss: 5.0122\n",
      "Epoch 28/50\n",
      "2/2 [==============================] - 0s 18ms/step - loss: 4.8101 - val_loss: 4.9899\n",
      "Epoch 29/50\n",
      "2/2 [==============================] - 0s 17ms/step - loss: 4.7869 - val_loss: 4.9702\n",
      "Epoch 30/50\n",
      "2/2 [==============================] - 0s 13ms/step - loss: 4.7664 - val_loss: 4.9529\n",
      "Epoch 31/50\n",
      "2/2 [==============================] - 0s 14ms/step - loss: 4.7483 - val_loss: 4.9377\n",
      "Epoch 32/50\n",
      "2/2 [==============================] - 0s 14ms/step - loss: 4.7323 - val_loss: 4.9243\n",
      "Epoch 33/50\n",
      "2/2 [==============================] - 0s 16ms/step - loss: 4.7183 - val_loss: 4.9126\n",
      "Epoch 34/50\n",
      "2/2 [==============================] - 0s 16ms/step - loss: 4.7059 - val_loss: 4.9022\n",
      "Epoch 35/50\n",
      "2/2 [==============================] - 0s 16ms/step - loss: 4.6949 - val_loss: 4.8928\n",
      "Epoch 36/50\n",
      "2/2 [==============================] - 0s 14ms/step - loss: 4.6850 - val_loss: 4.8844\n",
      "Epoch 37/50\n",
      "2/2 [==============================] - 0s 14ms/step - loss: 4.6761 - val_loss: 4.8768\n",
      "Epoch 38/50\n",
      "2/2 [==============================] - 0s 13ms/step - loss: 4.6681 - val_loss: 4.8699\n",
      "Epoch 39/50\n",
      "2/2 [==============================] - 0s 14ms/step - loss: 4.6611 - val_loss: 4.8638\n",
      "Epoch 40/50\n",
      "2/2 [==============================] - 0s 13ms/step - loss: 4.6548 - val_loss: 4.8585\n",
      "Epoch 41/50\n",
      "2/2 [==============================] - 0s 13ms/step - loss: 4.6494 - val_loss: 4.8539\n",
      "Epoch 42/50\n",
      "2/2 [==============================] - 0s 16ms/step - loss: 4.6449 - val_loss: 4.8500\n",
      "Epoch 43/50\n",
      "2/2 [==============================] - 0s 13ms/step - loss: 4.6411 - val_loss: 4.8468\n",
      "Epoch 44/50\n",
      "2/2 [==============================] - 0s 13ms/step - loss: 4.6379 - val_loss: 4.8442\n",
      "Epoch 45/50\n",
      "2/2 [==============================] - 0s 13ms/step - loss: 4.6354 - val_loss: 4.8421\n",
      "Epoch 46/50\n",
      "2/2 [==============================] - 0s 13ms/step - loss: 4.6333 - val_loss: 4.8404\n",
      "Epoch 47/50\n",
      "2/2 [==============================] - 0s 15ms/step - loss: 4.6317 - val_loss: 4.8390\n",
      "Epoch 48/50\n",
      "2/2 [==============================] - 0s 16ms/step - loss: 4.6304 - val_loss: 4.8378\n",
      "Epoch 49/50\n",
      "2/2 [==============================] - 0s 13ms/step - loss: 4.6294 - val_loss: 4.8368\n",
      "Epoch 50/50\n",
      "2/2 [==============================] - 0s 14ms/step - loss: 4.6285 - val_loss: 4.8360\n"
     ]
    }
   ],
   "source": [
    "# 수치형 데이터로 변환 가능한 열만 선택\n",
    "X_train_numeric = X_train.select_dtypes(include=[np.number])\n",
    "\n",
    "# NaN 값 처리 (있다면 0으로 대체)\n",
    "if np.any(np.isnan(X_train_numeric)):\n",
    "    X_train_numeric = np.nan_to_num(X_train_numeric)\n",
    "\n",
    "# 최종적으로 NumPy 배열로 변환하고 float32로 설정\n",
    "X_train_numeric = np.array(X_train_numeric, dtype=np.float32)\n",
    "\n",
    "# 모델 학습 재시도\n",
    "history = autoencoder.fit(X_train_numeric, X_train_numeric, \n",
    "                          epochs=50, \n",
    "                          batch_size=256, \n",
    "                          shuffle=True, \n",
    "                          validation_split=0.1)\n"
   ]
  },
  {
   "cell_type": "code",
   "execution_count": 76,
   "id": "374f840c-d3ba-486c-865c-6f7966dec365",
   "metadata": {},
   "outputs": [
    {
     "data": {
      "image/png": "[encoded data removed]",
      "text/plain": [
       "<Figure size 640x480 with 1 Axes>"
      ]
     },
     "metadata": {},
     "output_type": "display_data"
    }
   ],
   "source": [
    "plt.plot(history.history['loss'])\n",
    "plt.plot(history.history['val_loss'])\n",
    "plt.title('model loss')\n",
    "plt.ylabel('loss')\n",
    "plt.xlabel('epoch')\n",
    "plt.legend(['train', 'test'], loc='upper right');"
   ]
  },
  {
   "cell_type": "code",
   "execution_count": 77,
   "id": "b6c8263a-e692-41a0-8357-79f3f1f6c42e",
   "metadata": {},
   "outputs": [
    {
     "name": "stdout",
     "output_type": "stream",
     "text": [
      "6/6 [==============================] - 0s 508us/step\n",
      "           reconstruction_error                                          \n",
      "                           mean         std        min          max count\n",
      "true_class                                                               \n",
      "jumping              486.157441  402.321850  32.013017  2665.729263    96\n",
      "sitting                4.730648    0.986117   4.395594    14.048525    96\n"
     ]
    }
   ],
   "source": [
    "# X_test 값을 넣어서 Reconstruction Error 값을 얻고,\n",
    "# 실제 레이블인 y_test와 데이터프레임으로 구성\n",
    "# Reconstruction Error + 실제 레이블의 형태가 됨\n",
    "\n",
    "predictions = autoencoder.predict(X_test)\n",
    "mse = np.mean(np.power(X_test - predictions, 2), axis=1)\n",
    "error_df = pd.DataFrame({'reconstruction_error': mse,\n",
    "                        'true_class': y_test})\n",
    "\n",
    "# true_class에 대한 통계와 reconstruction_error에 대한 통계 출력\n",
    "error_summary = error_df.groupby('true_class').agg(['mean', 'std', 'min', 'max', 'count'])\n",
    "print(error_summary)\n"
   ]
  },
  {
   "cell_type": "code",
   "execution_count": 78,
   "id": "b8ae243f-9074-49c5-8a24-c7fd9eee091f",
   "metadata": {},
   "outputs": [
    {
     "data": {
      "text/html": [
       "<div>\n",
       "<style scoped>\n",
       "    .dataframe tbody tr th:only-of-type {\n",
       "        vertical-align: middle;\n",
       "    }\n",
       "\n",
       "    .dataframe tbody tr th {\n",
       "        vertical-align: top;\n",
       "    }\n",
       "\n",
       "    .dataframe thead th {\n",
       "        text-align: right;\n",
       "    }\n",
       "</style>\n",
       "<table border=\"1\" class=\"dataframe\">\n",
       "  <thead>\n",
       "    <tr style=\"text-align: right;\">\n",
       "      <th></th>\n",
       "      <th>reconstruction_error</th>\n",
       "      <th>true_class</th>\n",
       "    </tr>\n",
       "  </thead>\n",
       "  <tbody>\n",
       "    <tr>\n",
       "      <th>439</th>\n",
       "      <td>4.839014</td>\n",
       "      <td>sitting</td>\n",
       "    </tr>\n",
       "    <tr>\n",
       "      <th>8508</th>\n",
       "      <td>207.029224</td>\n",
       "      <td>jumping</td>\n",
       "    </tr>\n",
       "    <tr>\n",
       "      <th>8350</th>\n",
       "      <td>432.234267</td>\n",
       "      <td>jumping</td>\n",
       "    </tr>\n",
       "    <tr>\n",
       "      <th>8620</th>\n",
       "      <td>527.981933</td>\n",
       "      <td>jumping</td>\n",
       "    </tr>\n",
       "    <tr>\n",
       "      <th>313</th>\n",
       "      <td>4.729974</td>\n",
       "      <td>sitting</td>\n",
       "    </tr>\n",
       "  </tbody>\n",
       "</table>\n",
       "</div>"
      ],
      "text/plain": [
       "      reconstruction_error true_class\n",
       "439               4.839014    sitting\n",
       "8508            207.029224    jumping\n",
       "8350            432.234267    jumping\n",
       "8620            527.981933    jumping\n",
       "313               4.729974    sitting"
      ]
     },
     "execution_count": 78,
     "metadata": {},
     "output_type": "execute_result"
    }
   ],
   "source": [
    "error_df.head()"
   ]
  },
  {
   "cell_type": "code",
   "execution_count": 81,
   "id": "83f6f0ce-dc42-48d7-a958-07fa4bfada85",
   "metadata": {},
   "outputs": [],
   "source": [
    "# threshold 값을 조정하여 최선의 정확도를 얻음, 그래프로를 보고 결정\n",
    "\n",
    "threshold = 10"
   ]
  },
  {
   "cell_type": "code",
   "execution_count": 82,
   "id": "f74262f8-8e86-41e0-a279-dd02badccc5b",
   "metadata": {},
   "outputs": [
    {
     "data": {
      "image/png": "[encoded data removed]",
      "text/plain": [
       "<Figure size 640x480 with 1 Axes>"
      ]
     },
     "metadata": {},
     "output_type": "display_data"
    }
   ],
   "source": [
    "groups = error_df.groupby('true_class')\n",
    "fig, ax = plt.subplots()\n",
    "\n",
    "for name, group in groups:\n",
    "    ax.plot(group.index, group.reconstruction_error, marker='o', ms=3.5, linestyle='',\n",
    "            label=\"Abnormal\" if name == \"jumping\" else \"Normal\")\n",
    "ax.hlines(threshold, ax.get_xlim()[0], ax.get_xlim()[1], colors=\"r\", zorder=100, label='Threshold')\n",
    "ax.legend()\n",
    "plt.title(\"Reconstruction error for different classes\")\n",
    "plt.ylabel(\"Reconstruction error\")\n",
    "plt.xlabel(\"Data point index\")\n",
    "plt.show();\n"
   ]
  },
  {
   "cell_type": "code",
   "execution_count": 84,
   "id": "4a13d1cc-bf2f-4fac-b512-995a90bbab59",
   "metadata": {},
   "outputs": [
    {
     "data": {
      "image/png": "[encoded data removed]",
      "text/plain": [
       "<Figure size 800x800 with 2 Axes>"
      ]
     },
     "metadata": {},
     "output_type": "display_data"
    },
    {
     "name": "stdout",
     "output_type": "stream",
     "text": [
      "              precision    recall  f1-score   support\n",
      "\n",
      "           0       1.00      0.99      0.99        96\n",
      "           1       0.99      1.00      0.99        96\n",
      "\n",
      "    accuracy                           0.99       192\n",
      "   macro avg       0.99      0.99      0.99       192\n",
      "weighted avg       0.99      0.99      0.99       192\n",
      "\n"
     ]
    }
   ],
   "source": [
    "from sklearn.metrics import confusion_matrix, classification_report\n",
    "import seaborn as sns\n",
    "import numpy as np\n",
    "\n",
    "# threshold에 따라 y_pred 생성\n",
    "y_pred = [1 if e > threshold else 0 for e in error_df.reconstruction_error.values]\n",
    "\n",
    "# true_class가 문자열로 되어 있을 경우 정수형으로 변환\n",
    "true_class_labels = {'sitting': 0, 'jumping': 1}  # 레이블을 정수형으로 매핑\n",
    "error_df['true_class'] = error_df['true_class'].map(true_class_labels)\n",
    "\n",
    "# 혼동 행렬 계산\n",
    "conf_matrix = confusion_matrix(error_df.true_class, y_pred)\n",
    "\n",
    "# 혼동 행렬 시각화\n",
    "plt.figure(figsize=(8, 8))\n",
    "sns.heatmap(conf_matrix, annot=True, fmt=\"d\", cmap='Blues',\n",
    "             xticklabels=['Normal', 'Abnormal'], yticklabels=['Normal', 'Abnormal'])\n",
    "plt.title(\"Confusion matrix\")\n",
    "plt.ylabel('True class')\n",
    "plt.xlabel('Predicted class')\n",
    "plt.show()\n",
    "\n",
    "# 분류 리포트 출력\n",
    "print(classification_report(error_df.true_class, y_pred))\n"
   ]
  },
  {
   "cell_type": "code",
   "execution_count": null,
   "id": "9da8e39e-a510-45ef-b223-ad56ff3e83aa",
   "metadata": {},
   "outputs": [],
   "source": []
  }
 ],
 "metadata": {
  "kernelspec": {
   "display_name": "Python 3 (ipykernel)",
   "language": "python",
   "name": "python3"
  },
  "language_info": {
   "codemirror_mode": {
    "name": "ipython",
    "version": 3
   },
   "file_extension": ".py",
   "mimetype": "text/x-python",
   "name": "python",
   "nbconvert_exporter": "python",
   "pygments_lexer": "ipython3",
   "version": "3.8.19"
  }
 },
 "nbformat": 4,
 "nbformat_minor": 5
}
