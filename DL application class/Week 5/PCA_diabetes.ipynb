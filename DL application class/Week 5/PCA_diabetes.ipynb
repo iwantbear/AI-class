{
 "cells": [
  {
   "cell_type": "code",
   "execution_count": 1,
   "id": "c8bb8408",
   "metadata": {},
   "outputs": [],
   "source": [
    "import numpy as np\n",
    "import pandas as pd\n",
    "import seaborn as sns\n",
    "import matplotlib.pyplot as plt\n",
    "%matplotlib inline"
   ]
  },
  {
   "cell_type": "code",
   "execution_count": 2,
   "id": "a884ec63",
   "metadata": {},
   "outputs": [
    {
     "data": {
      "text/html": [
       "<div>\n",
       "<style scoped>\n",
       "    .dataframe tbody tr th:only-of-type {\n",
       "        vertical-align: middle;\n",
       "    }\n",
       "\n",
       "    .dataframe tbody tr th {\n",
       "        vertical-align: top;\n",
       "    }\n",
       "\n",
       "    .dataframe thead th {\n",
       "        text-align: right;\n",
       "    }\n",
       "</style>\n",
       "<table border=\"1\" class=\"dataframe\">\n",
       "  <thead>\n",
       "    <tr style=\"text-align: right;\">\n",
       "      <th></th>\n",
       "      <th>Pregnancies</th>\n",
       "      <th>Glucose</th>\n",
       "      <th>BloodPressure</th>\n",
       "      <th>SkinThickness</th>\n",
       "      <th>Insulin</th>\n",
       "      <th>BMI</th>\n",
       "      <th>DiabetesPedigreeFunction</th>\n",
       "      <th>Age</th>\n",
       "      <th>Outcome</th>\n",
       "    </tr>\n",
       "  </thead>\n",
       "  <tbody>\n",
       "    <tr>\n",
       "      <th>0</th>\n",
       "      <td>6</td>\n",
       "      <td>148</td>\n",
       "      <td>72</td>\n",
       "      <td>35</td>\n",
       "      <td>0</td>\n",
       "      <td>33.6</td>\n",
       "      <td>0.627</td>\n",
       "      <td>50</td>\n",
       "      <td>1</td>\n",
       "    </tr>\n",
       "    <tr>\n",
       "      <th>1</th>\n",
       "      <td>1</td>\n",
       "      <td>85</td>\n",
       "      <td>66</td>\n",
       "      <td>29</td>\n",
       "      <td>0</td>\n",
       "      <td>26.6</td>\n",
       "      <td>0.351</td>\n",
       "      <td>31</td>\n",
       "      <td>0</td>\n",
       "    </tr>\n",
       "    <tr>\n",
       "      <th>2</th>\n",
       "      <td>8</td>\n",
       "      <td>183</td>\n",
       "      <td>64</td>\n",
       "      <td>0</td>\n",
       "      <td>0</td>\n",
       "      <td>23.3</td>\n",
       "      <td>0.672</td>\n",
       "      <td>32</td>\n",
       "      <td>1</td>\n",
       "    </tr>\n",
       "    <tr>\n",
       "      <th>3</th>\n",
       "      <td>1</td>\n",
       "      <td>89</td>\n",
       "      <td>66</td>\n",
       "      <td>23</td>\n",
       "      <td>94</td>\n",
       "      <td>28.1</td>\n",
       "      <td>0.167</td>\n",
       "      <td>21</td>\n",
       "      <td>0</td>\n",
       "    </tr>\n",
       "    <tr>\n",
       "      <th>4</th>\n",
       "      <td>0</td>\n",
       "      <td>137</td>\n",
       "      <td>40</td>\n",
       "      <td>35</td>\n",
       "      <td>168</td>\n",
       "      <td>43.1</td>\n",
       "      <td>2.288</td>\n",
       "      <td>33</td>\n",
       "      <td>1</td>\n",
       "    </tr>\n",
       "    <tr>\n",
       "      <th>...</th>\n",
       "      <td>...</td>\n",
       "      <td>...</td>\n",
       "      <td>...</td>\n",
       "      <td>...</td>\n",
       "      <td>...</td>\n",
       "      <td>...</td>\n",
       "      <td>...</td>\n",
       "      <td>...</td>\n",
       "      <td>...</td>\n",
       "    </tr>\n",
       "    <tr>\n",
       "      <th>763</th>\n",
       "      <td>10</td>\n",
       "      <td>101</td>\n",
       "      <td>76</td>\n",
       "      <td>48</td>\n",
       "      <td>180</td>\n",
       "      <td>32.9</td>\n",
       "      <td>0.171</td>\n",
       "      <td>63</td>\n",
       "      <td>0</td>\n",
       "    </tr>\n",
       "    <tr>\n",
       "      <th>764</th>\n",
       "      <td>2</td>\n",
       "      <td>122</td>\n",
       "      <td>70</td>\n",
       "      <td>27</td>\n",
       "      <td>0</td>\n",
       "      <td>36.8</td>\n",
       "      <td>0.340</td>\n",
       "      <td>27</td>\n",
       "      <td>0</td>\n",
       "    </tr>\n",
       "    <tr>\n",
       "      <th>765</th>\n",
       "      <td>5</td>\n",
       "      <td>121</td>\n",
       "      <td>72</td>\n",
       "      <td>23</td>\n",
       "      <td>112</td>\n",
       "      <td>26.2</td>\n",
       "      <td>0.245</td>\n",
       "      <td>30</td>\n",
       "      <td>0</td>\n",
       "    </tr>\n",
       "    <tr>\n",
       "      <th>766</th>\n",
       "      <td>1</td>\n",
       "      <td>126</td>\n",
       "      <td>60</td>\n",
       "      <td>0</td>\n",
       "      <td>0</td>\n",
       "      <td>30.1</td>\n",
       "      <td>0.349</td>\n",
       "      <td>47</td>\n",
       "      <td>1</td>\n",
       "    </tr>\n",
       "    <tr>\n",
       "      <th>767</th>\n",
       "      <td>1</td>\n",
       "      <td>93</td>\n",
       "      <td>70</td>\n",
       "      <td>31</td>\n",
       "      <td>0</td>\n",
       "      <td>30.4</td>\n",
       "      <td>0.315</td>\n",
       "      <td>23</td>\n",
       "      <td>0</td>\n",
       "    </tr>\n",
       "  </tbody>\n",
       "</table>\n",
       "<p>768 rows × 9 columns</p>\n",
       "</div>"
      ],
      "text/plain": [
       "     Pregnancies  Glucose  BloodPressure  SkinThickness  Insulin   BMI  \\\n",
       "0              6      148             72             35        0  33.6   \n",
       "1              1       85             66             29        0  26.6   \n",
       "2              8      183             64              0        0  23.3   \n",
       "3              1       89             66             23       94  28.1   \n",
       "4              0      137             40             35      168  43.1   \n",
       "..           ...      ...            ...            ...      ...   ...   \n",
       "763           10      101             76             48      180  32.9   \n",
       "764            2      122             70             27        0  36.8   \n",
       "765            5      121             72             23      112  26.2   \n",
       "766            1      126             60              0        0  30.1   \n",
       "767            1       93             70             31        0  30.4   \n",
       "\n",
       "     DiabetesPedigreeFunction  Age  Outcome  \n",
       "0                       0.627   50        1  \n",
       "1                       0.351   31        0  \n",
       "2                       0.672   32        1  \n",
       "3                       0.167   21        0  \n",
       "4                       2.288   33        1  \n",
       "..                        ...  ...      ...  \n",
       "763                     0.171   63        0  \n",
       "764                     0.340   27        0  \n",
       "765                     0.245   30        0  \n",
       "766                     0.349   47        1  \n",
       "767                     0.315   23        0  \n",
       "\n",
       "[768 rows x 9 columns]"
      ]
     },
     "execution_count": 2,
     "metadata": {},
     "output_type": "execute_result"
    }
   ],
   "source": [
    "df = pd.read_csv(\"/Users/hwang-gyuhan/Desktop/Collage/3-2/딥러닝응용/1주차/diabetes.csv\")\n",
    "df"
   ]
  },
  {
   "cell_type": "code",
   "execution_count": 3,
   "id": "c2d25287",
   "metadata": {},
   "outputs": [],
   "source": [
    "#X is feature vectors\n",
    "X = df[['Pregnancies', 'Glucose', 'BloodPressure', 'SkinThickness', 'Insulin', 'BMI', 'DiabetesPedigreeFunction', 'Age']]\n",
    "\n",
    "# y is labels\n",
    "Y = df[['Outcome']]"
   ]
  },
  {
   "cell_type": "code",
   "execution_count": 4,
   "id": "3ab9d5cb",
   "metadata": {},
   "outputs": [],
   "source": [
    "from sklearn.preprocessing import StandardScaler\n",
    "\n",
    "X_scaled = StandardScaler().fit_transform(X)\n"
   ]
  },
  {
   "cell_type": "code",
   "execution_count": 5,
   "id": "217dd418",
   "metadata": {},
   "outputs": [
    {
     "name": "stdout",
     "output_type": "stream",
     "text": [
      "[[ 1.13540563e+01  1.39471307e+01  9.21453818e+00 -4.39004101e+00\n",
      "  -2.85552307e+01  4.69774181e-01 -3.74259714e-02  2.15706198e+01]\n",
      " [ 1.39471307e+01  1.02224831e+03  9.44309556e+01  2.92391827e+01\n",
      "   1.22093580e+03  5.57269867e+01  1.45487481e+00  9.90828054e+01]\n",
      " [ 9.21453818e+00  9.44309556e+01  3.74647271e+02  6.40293962e+01\n",
      "   1.98378412e+02  4.30046951e+01  2.64637574e-01  5.45234528e+01]\n",
      " [-4.39004101e+00  2.92391827e+01  6.40293962e+01  2.54473245e+02\n",
      "   8.02979941e+02  4.93738694e+01  9.72135546e-01 -2.13810232e+01]\n",
      " [-2.85552307e+01  1.22093580e+03  1.98378412e+02  8.02979941e+02\n",
      "   1.32811801e+04  1.79775172e+02  7.06668051e+00 -5.71432903e+01]\n",
      " [ 4.69774181e-01  5.57269867e+01  4.30046951e+01  4.93738694e+01\n",
      "   1.79775172e+02  6.21599840e+01  3.67404687e-01  3.36032992e+00]\n",
      " [-3.74259714e-02  1.45487481e+00  2.64637574e-01  9.72135546e-01\n",
      "   7.06668051e+00  3.67404687e-01  1.09778638e-01  1.30771687e-01]\n",
      " [ 2.15706198e+01  9.90828054e+01  5.45234528e+01 -2.13810232e+01\n",
      "  -5.71432903e+01  3.36032992e+00  1.30771687e-01  1.38303046e+02]]\n"
     ]
    }
   ],
   "source": [
    "features =X.T  # X 데이터는 150 × 4 이라면,\n",
    "               # feature 는 4 × 150 이다.\n",
    "\n",
    "covariance_matrix = np.cov(features)\n",
    "print(covariance_matrix)"
   ]
  },
  {
   "cell_type": "code",
   "execution_count": 6,
   "id": "28c1a43e",
   "metadata": {},
   "outputs": [
    {
     "name": "stdout",
     "output_type": "stream",
     "text": [
      "\n",
      "Eigenvalues \n",
      "[1.34565730e+04 9.32760132e+02 3.90577831e+02 1.98182691e+02\n",
      " 1.12689115e+02 4.58294431e+01 7.76070899e+00 1.02871018e-01] \n",
      "\n",
      "Eigenvectros \n",
      "[[-2.02176587e-03  2.26488861e-02 -2.24649003e-02 -4.90459604e-02\n",
      "   1.51612874e-01  5.04730888e-03 -9.86672995e-01 -6.10123250e-03]\n",
      " [ 9.78115765e-02  9.72210040e-01  1.43428710e-01  1.19830016e-01\n",
      "  -8.79407680e-02 -5.07391813e-02 -8.83426114e-04  8.25459539e-04]\n",
      " [ 1.60930503e-02  1.41909330e-01 -9.22467192e-01 -2.62742788e-01\n",
      "  -2.32165009e-01 -7.56365525e-02  1.22975947e-03 -5.20865450e-04]\n",
      " [ 6.07566861e-02 -5.78614699e-02 -3.07013055e-01  8.84369380e-01\n",
      "   2.59973487e-01 -2.21363068e-01  3.76444746e-04  2.54871909e-03]\n",
      " [ 9.93110844e-01 -9.46266913e-02  2.09773019e-02 -6.55503615e-02\n",
      "  -1.72312241e-04  6.13326472e-03 -1.42307394e-03  2.68965921e-04]\n",
      " [ 1.40108085e-02  4.69729766e-02 -1.32444542e-01  1.92801728e-01\n",
      "   2.14744823e-02  9.70776708e-01  2.73046214e-03  2.67341863e-03]\n",
      " [ 5.37167919e-04  8.16804621e-04 -6.39983017e-04  2.69908637e-03\n",
      "   1.64080684e-03  2.02903702e-03  6.34402965e-03 -9.99972146e-01]\n",
      " [-3.56474430e-03  1.40168181e-01 -1.25454310e-01 -3.01024330e-01\n",
      "   9.20504903e-01  1.51133239e-02  1.62555343e-01  1.95271966e-03]]\n"
     ]
    }
   ],
   "source": [
    "values, vectors = np.linalg.eig(covariance_matrix)\n",
    "\n",
    "print('\\nEigenvalues \\n%s '% values[:])\n",
    "print('\\nEigenvectros \\n%s'  %  vectors[:])\n"
   ]
  },
  {
   "cell_type": "code",
   "execution_count": 7,
   "id": "076fed5a",
   "metadata": {},
   "outputs": [
    {
     "name": "stdout",
     "output_type": "stream",
     "text": [
      "1.0 \n",
      " [0.8885466345756242, 0.061590783745876426, 0.02579011891766146, 0.013086137415140739, 0.007440938639887548, 0.0030261491882255715, 0.000512444874569854, 6.792643014072569e-06]\n"
     ]
    }
   ],
   "source": [
    "explained_variances = []\n",
    "for i in range(len(values)):\n",
    "    explained_variances.append(values[i] / np.sum(values))\n",
    "print(np.sum(explained_variances), '\\n', explained_variances)\n"
   ]
  },
  {
   "cell_type": "code",
   "execution_count": 8,
   "id": "ffbf77fb",
   "metadata": {},
   "outputs": [],
   "source": [
    "projected_x = X.dot(vectors.T[0])\n",
    "projected_y = X.dot(vectors.T[1])"
   ]
  },
  {
   "cell_type": "code",
   "execution_count": 9,
   "id": "00d057f5",
   "metadata": {},
   "outputs": [],
   "source": [
    "result = pd.DataFrame(projected_x, columns =['PC1'])\n",
    "result['PC2'] = projected_y\n",
    "result['y-axis']=0.0\n",
    "result['label'] = Y "
   ]
  },
  {
   "cell_type": "code",
   "execution_count": 10,
   "id": "b9f65fe5",
   "metadata": {},
   "outputs": [
    {
     "data": {
      "text/html": [
       "<div>\n",
       "<style scoped>\n",
       "    .dataframe tbody tr th:only-of-type {\n",
       "        vertical-align: middle;\n",
       "    }\n",
       "\n",
       "    .dataframe tbody tr th {\n",
       "        vertical-align: top;\n",
       "    }\n",
       "\n",
       "    .dataframe thead th {\n",
       "        text-align: right;\n",
       "    }\n",
       "</style>\n",
       "<table border=\"1\" class=\"dataframe\">\n",
       "  <thead>\n",
       "    <tr style=\"text-align: right;\">\n",
       "      <th></th>\n",
       "      <th>PC1</th>\n",
       "      <th>PC2</th>\n",
       "      <th>y-axis</th>\n",
       "      <th>label</th>\n",
       "    </tr>\n",
       "  </thead>\n",
       "  <tbody>\n",
       "    <tr>\n",
       "      <th>0</th>\n",
       "      <td>18.042029</td>\n",
       "      <td>160.802513</td>\n",
       "      <td>0.0</td>\n",
       "      <td>1</td>\n",
       "    </tr>\n",
       "    <tr>\n",
       "      <th>1</th>\n",
       "      <td>11.398416</td>\n",
       "      <td>95.943517</td>\n",
       "      <td>0.0</td>\n",
       "      <td>0</td>\n",
       "    </tr>\n",
       "    <tr>\n",
       "      <th>2</th>\n",
       "      <td>19.126041</td>\n",
       "      <td>192.758227</td>\n",
       "      <td>0.0</td>\n",
       "      <td>1</td>\n",
       "    </tr>\n",
       "    <tr>\n",
       "      <th>3</th>\n",
       "      <td>104.834107</td>\n",
       "      <td>89.953244</td>\n",
       "      <td>0.0</td>\n",
       "      <td>0</td>\n",
       "    </tr>\n",
       "    <tr>\n",
       "      <th>4</th>\n",
       "      <td>183.500472</td>\n",
       "      <td>127.598667</td>\n",
       "      <td>0.0</td>\n",
       "      <td>1</td>\n",
       "    </tr>\n",
       "  </tbody>\n",
       "</table>\n",
       "</div>"
      ],
      "text/plain": [
       "          PC1         PC2  y-axis  label\n",
       "0   18.042029  160.802513     0.0      1\n",
       "1   11.398416   95.943517     0.0      0\n",
       "2   19.126041  192.758227     0.0      1\n",
       "3  104.834107   89.953244     0.0      0\n",
       "4  183.500472  127.598667     0.0      1"
      ]
     },
     "execution_count": 10,
     "metadata": {},
     "output_type": "execute_result"
    }
   ],
   "source": [
    "result.head()"
   ]
  },
  {
   "cell_type": "code",
   "execution_count": 11,
   "id": "53053e98",
   "metadata": {},
   "outputs": [
    {
     "data": {
      "text/plain": [
       "<seaborn.axisgrid.FacetGrid at 0x14aaf4730>"
      ]
     },
     "execution_count": 11,
     "metadata": {},
     "output_type": "execute_result"
    },
    {
     "data": {
      "image/png": "[encoded data removed]",
      "text/plain": [
       "<Figure size 558.875x500 with 1 Axes>"
      ]
     },
     "metadata": {},
     "output_type": "display_data"
    }
   ],
   "source": [
    "sns.lmplot(x='PC1', y='y-axis', data=result, \n",
    "           fit_reg=False,                       # no line\n",
    "           scatter_kws={\"s\":50},                # marker size\n",
    "           hue=\"label\")                         # color\n"
   ]
  },
  {
   "cell_type": "code",
   "execution_count": 12,
   "id": "04a35270",
   "metadata": {},
   "outputs": [
    {
     "data": {
      "text/plain": [
       "<seaborn.axisgrid.FacetGrid at 0x14ae57be0>"
      ]
     },
     "execution_count": 12,
     "metadata": {},
     "output_type": "execute_result"
    },
    {
     "data": {
      "image/png": "[encoded data removed]",
      "text/plain": [
       "<Figure size 558.875x500 with 1 Axes>"
      ]
     },
     "metadata": {},
     "output_type": "display_data"
    }
   ],
   "source": [
    "sns.lmplot(x='PC1', y='PC2', data=result, \n",
    "           fit_reg=False,  # no line\n",
    "           scatter_kws={\"s\":50},  # marker size\n",
    "           hue=\"label\")  # color\n"
   ]
  },
  {
   "cell_type": "markdown",
   "id": "f6c87cec",
   "metadata": {},
   "source": [
    "###  Logistic Regression and SVM Classification"
   ]
  },
  {
   "cell_type": "code",
   "execution_count": 14,
   "id": "8b6088d4",
   "metadata": {},
   "outputs": [
    {
     "name": "stdout",
     "output_type": "stream",
     "text": [
      "Logistic Regression Accuracy: 0.7077922077922078\n",
      "SVM Accuracy: 0.7207792207792207\n"
     ]
    }
   ],
   "source": [
    "import numpy as np\n",
    "import pandas as pd\n",
    "from sklearn.preprocessing import StandardScaler\n",
    "from sklearn.decomposition import PCA\n",
    "from sklearn.model_selection import train_test_split\n",
    "from sklearn.linear_model import LogisticRegression\n",
    "from sklearn.svm import SVC\n",
    "from sklearn.metrics import accuracy_score\n",
    "\n",
    "df = pd.read_csv(\"/Users/hwang-gyuhan/Desktop/Collage/3-2/딥러닝응용/1주차/diabetes.csv\")\n",
    "\n",
    "X = df[['Pregnancies', 'Glucose', 'BloodPressure', 'SkinThickness', 'Insulin', 'BMI', 'DiabetesPedigreeFunction', 'Age']]\n",
    "y = df[['Outcome']]\n",
    "\n",
    "scaler = StandardScaler()\n",
    "X_scaled = scaler.fit_transform(X)\n",
    "\n",
    "pca = PCA(n_components=2)\n",
    "X_pca = pca.fit_transform(X_scaled)\n",
    "\n",
    "X_train, X_test, y_train, y_test = train_test_split(X_pca, y, test_size=0.2, random_state=42)\n",
    "\n",
    "log_reg = LogisticRegression()\n",
    "log_reg.fit(X_train, y_train.values.ravel())\n",
    "\n",
    "y_pred = log_reg.predict(X_test)\n",
    "accuracy = accuracy_score(y_test, y_pred)\n",
    "print(f'Logistic Regression Accuracy: {accuracy}')\n",
    "\n",
    "svm = SVC()\n",
    "svm.fit(X_train, y_train.values.ravel())\n",
    "\n",
    "y_pred_svm = svm.predict(X_test)\n",
    "accuracy_svm = accuracy_score(y_test, y_pred_svm)\n",
    "print(f'SVM Accuracy: {accuracy_svm}')\n"
   ]
  }
 ],
 "metadata": {
  "kernelspec": {
   "display_name": "Python 3",
   "language": "python",
   "name": "python3"
  },
  "language_info": {
   "codemirror_mode": {
    "name": "ipython",
    "version": 3
   },
   "file_extension": ".py",
   "mimetype": "text/x-python",
   "name": "python",
   "nbconvert_exporter": "python",
   "pygments_lexer": "ipython3",
   "version": "3.8.19"
  }
 },
 "nbformat": 4,
 "nbformat_minor": 5
}
